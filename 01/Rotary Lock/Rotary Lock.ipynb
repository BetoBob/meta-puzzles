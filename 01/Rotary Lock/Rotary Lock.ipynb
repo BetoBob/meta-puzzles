{
 "cells": [
  {
   "cell_type": "markdown",
   "id": "378f7ccf-d54f-45d0-9266-21814fcbcc71",
   "metadata": {},
   "source": [
    "# Rotary Lock"
   ]
  },
  {
   "cell_type": "code",
   "execution_count": 35,
   "id": "6048bb9f-f622-4fca-9ace-0f51fd9a4ba6",
   "metadata": {},
   "outputs": [],
   "source": [
    "N = 3\n",
    "M = 3\n",
    "C = [1, 2, 3]"
   ]
  },
  {
   "cell_type": "code",
   "execution_count": 1,
   "id": "ef8c6d3a-2663-4e74-9910-62e062ec8db6",
   "metadata": {},
   "outputs": [],
   "source": [
    "# expected out = 11\n",
    "N = 10\n",
    "M = 4\n",
    "C = [9, 4, 4, 8]"
   ]
  },
  {
   "cell_type": "code",
   "execution_count": 53,
   "id": "2b4d07f5-e55c-429d-87df-4f5487ac4ceb",
   "metadata": {},
   "outputs": [
    {
     "name": "stdout",
     "output_type": "stream",
     "text": [
      "2 8\n",
      "5 5\n",
      "0 10\n",
      "6 4\n"
     ]
    }
   ],
   "source": [
    "# p for pointer\n",
    "p = 1\n",
    "moves = 0\n",
    "\n",
    "for c in C:\n",
    "    left = (N-c) + p if p < c else p - c\n",
    "    right = c - p if p < c else (N-p) + c\n",
    "    moves += left if left < right else right\n",
    "    p = c"
   ]
  },
  {
   "cell_type": "code",
   "execution_count": 54,
   "id": "9c737872-24a4-411c-a562-9f0e043f898e",
   "metadata": {},
   "outputs": [
    {
     "data": {
      "text/plain": [
       "11"
      ]
     },
     "execution_count": 54,
     "metadata": {},
     "output_type": "execute_result"
    }
   ],
   "source": [
    "moves"
   ]
  },
  {
   "cell_type": "markdown",
   "id": "96f7bf1b-3443-4d11-be85-ef043d15f3c9",
   "metadata": {},
   "source": [
    "## Level 2\n",
    "\n",
    "The challenge of this version is that there can be multiple \"minimum\" values to select from, but one path might be better than another."
   ]
  },
  {
   "cell_type": "code",
   "execution_count": null,
   "id": "aeabba23-5af6-4452-823d-30e6316804b9",
   "metadata": {},
   "outputs": [],
   "source": [
    "p1 = 1\n",
    "p2 = 1\n",
    "moves = 0\n",
    "\n",
    "for c in C:\n",
    "    l1 = \n",
    "    l2 = \n",
    "    r1 = \n",
    "    r2 = \n",
    "    moves += min([l1, l2, r1, r2])\n",
    "    "
   ]
  }
 ],
 "metadata": {
  "kernelspec": {
   "display_name": "Python 3 (ipykernel)",
   "language": "python",
   "name": "python3"
  },
  "language_info": {
   "codemirror_mode": {
    "name": "ipython",
    "version": 3
   },
   "file_extension": ".py",
   "mimetype": "text/x-python",
   "name": "python",
   "nbconvert_exporter": "python",
   "pygments_lexer": "ipython3",
   "version": "3.9.7"
  }
 },
 "nbformat": 4,
 "nbformat_minor": 5
}
