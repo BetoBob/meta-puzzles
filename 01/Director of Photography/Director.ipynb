{
 "cells": [
  {
   "cell_type": "markdown",
   "id": "a7e855ba-c66d-47d4-b7c4-2758488968a7",
   "metadata": {},
   "source": [
    "# Director of Photography\n",
    "\n",
    "* solutions works for level 1\n",
    "* needs further optimization to complete level 2 (passes 33 / 39)\n",
    "    * 2 runtime errors\n",
    "    * 4 time exceeded"
   ]
  },
  {
   "cell_type": "code",
   "execution_count": 1,
   "id": "c65aa226-e152-45fa-bf5b-a2a7b1b6b24b",
   "metadata": {},
   "outputs": [],
   "source": [
    "# Write any import statements here\n",
    "\n",
    "def getArtisticPhotographCount(N: int, C: str, X: int, Y: int) -> int:\n",
    "  # Write your code here\n",
    "  return 0\n"
   ]
  },
  {
   "cell_type": "markdown",
   "id": "5240eff3-3152-49c2-883f-7df03d32761c",
   "metadata": {},
   "source": [
    "## Example Cases"
   ]
  },
  {
   "cell_type": "code",
   "execution_count": 58,
   "id": "243eff12-fa93-4975-8111-8d8f8734d4cd",
   "metadata": {},
   "outputs": [],
   "source": [
    "# Case #1\n",
    "# Out: 1\n",
    "N = 5\n",
    "C = \"APABA\"\n",
    "X = 1\n",
    "Y = 2"
   ]
  },
  {
   "cell_type": "code",
   "execution_count": 60,
   "id": "8b4d8aad-ea30-4e10-8a79-66dc9174479b",
   "metadata": {},
   "outputs": [],
   "source": [
    "# Case #2\n",
    "# Out: 0\n",
    "N = 5\n",
    "C = \"APABA\"\n",
    "X = 2\n",
    "Y = 3"
   ]
  },
  {
   "cell_type": "code",
   "execution_count": 64,
   "id": "763767b0-decb-4e46-9248-8da915668d3e",
   "metadata": {},
   "outputs": [],
   "source": [
    "# Case #3\n",
    "# Out: 3\n",
    "N = 8\n",
    "C = \".PBAAP.B\"\n",
    "X = 1\n",
    "Y = 3"
   ]
  },
  {
   "cell_type": "markdown",
   "id": "ab7037f6-79aa-4515-a1f5-f23fb467a480",
   "metadata": {},
   "source": [
    "### My Tests"
   ]
  },
  {
   "cell_type": "code",
   "execution_count": 71,
   "id": "08edb284-62e9-4c7f-8fd3-436b556884af",
   "metadata": {},
   "outputs": [],
   "source": [
    "# expected output: 0\n",
    "N = 1\n",
    "C = \"P\"\n",
    "X = 1\n",
    "Y = 1"
   ]
  },
  {
   "cell_type": "code",
   "execution_count": 69,
   "id": "dc629472-0608-482d-9e0b-cd95f1c269e6",
   "metadata": {},
   "outputs": [],
   "source": [
    "# expected output: 1\n",
    "\n",
    "N = 3\n",
    "C = \"PAB\"\n",
    "X = 1\n",
    "Y = 1"
   ]
  },
  {
   "cell_type": "code",
   "execution_count": 73,
   "id": "5d3d78d0-8232-4080-994c-c60ca40648e8",
   "metadata": {},
   "outputs": [],
   "source": [
    "# expected output: 1\n",
    "\n",
    "N = 3\n",
    "C = \"BAP\"\n",
    "X = 1\n",
    "Y = 1"
   ]
  },
  {
   "cell_type": "markdown",
   "id": "a23df855-5037-47fe-8610-0586e6a42835",
   "metadata": {},
   "source": [
    "## Code"
   ]
  },
  {
   "cell_type": "code",
   "execution_count": 75,
   "id": "1ec009a4-85b0-4751-ad8c-8748009fd7df",
   "metadata": {},
   "outputs": [
    {
     "name": "stdout",
     "output_type": "stream",
     "text": [
      "P: 2\n",
      "right too short\n",
      "art: 1\n",
      "\n",
      "1\n"
     ]
    }
   ],
   "source": [
    "# i for index\n",
    "# t for type\n",
    "\n",
    "art = 0\n",
    "\n",
    "for (i, t) in enumerate(C):\n",
    "    if(t == 'P'):\n",
    "        print(\"P: \" + str(i))\n",
    "        \n",
    "        # check left of p\n",
    "        if (i < (X * 2)):\n",
    "            print(\"left too short\")\n",
    "            \n",
    "        else:\n",
    "            for x1 in range(i - X, i - Y - 1, -1):\n",
    "                if(x1 < 0):\n",
    "                    print(\"too little x1\")\n",
    "                elif(C[x1] == 'A'):\n",
    "                    for x2 in range(x1 - X, x1 - Y - 1, -1):\n",
    "                        if(x2 < 0):\n",
    "                            print(\"too little x2\")\n",
    "                        elif(C[x2] == 'B'):\n",
    "                            art += 1\n",
    "        \n",
    "        # check right of p\n",
    "        if (N - i < (X * 2)):\n",
    "            print(\"right too short\")\n",
    "        \n",
    "        else:\n",
    "            for x1 in range(i + X, i + Y + 1):\n",
    "                if(x1 > N - 1):\n",
    "                    print(\"too much\")\n",
    "                elif(C[x1] == 'A'):\n",
    "                    print('A: ' + str(x1))\n",
    "                    for x2 in range(x1 + X, x1 + Y + 1):\n",
    "                        if(x2 > N - 1):\n",
    "                            print(\"too much\")\n",
    "                        elif(C[x2] == 'B'):\n",
    "                            art += 1\n",
    "    \n",
    "        print(\"art: \" + str(art) + \"\\n\")\n",
    "                            \n",
    "print(art)\n",
    "            "
   ]
  },
  {
   "cell_type": "markdown",
   "id": "eaae7956-2790-4612-9132-203706750f8c",
   "metadata": {},
   "source": [
    "## Tests"
   ]
  },
  {
   "cell_type": "code",
   "execution_count": null,
   "id": "9d2ea379-1ab5-4257-89c7-a2db8ec2b152",
   "metadata": {},
   "outputs": [],
   "source": [
    "N = 5\n",
    "C = \"APABA\"\n",
    "X = 1\n",
    "Y = 2"
   ]
  }
 ],
 "metadata": {
  "kernelspec": {
   "display_name": "Python 3 (ipykernel)",
   "language": "python",
   "name": "python3"
  },
  "language_info": {
   "codemirror_mode": {
    "name": "ipython",
    "version": 3
   },
   "file_extension": ".py",
   "mimetype": "text/x-python",
   "name": "python",
   "nbconvert_exporter": "python",
   "pygments_lexer": "ipython3",
   "version": "3.9.7"
  }
 },
 "nbformat": 4,
 "nbformat_minor": 5
}
