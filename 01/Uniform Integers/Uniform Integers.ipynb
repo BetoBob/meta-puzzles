{
 "cells": [
  {
   "cell_type": "markdown",
   "id": "8c22c997-705e-49e9-9e8d-c00cd9d714ce",
   "metadata": {},
   "source": [
    "# Uniform Integers"
   ]
  },
  {
   "cell_type": "markdown",
   "id": "9fb82c08-766a-4cd4-8588-747a24845ab1",
   "metadata": {},
   "source": [
    "## Tests"
   ]
  },
  {
   "cell_type": "code",
   "execution_count": 11,
   "id": "5bcc3dc3-6553-4a37-a9d0-ecdf5a131ae0",
   "metadata": {},
   "outputs": [],
   "source": [
    "A = 75\n",
    "B = 300"
   ]
  },
  {
   "cell_type": "code",
   "execution_count": 34,
   "id": "71743f0f-5d0b-452e-b23f-4d690d7f76aa",
   "metadata": {},
   "outputs": [],
   "source": [
    "A = 1\n",
    "B = 9"
   ]
  },
  {
   "cell_type": "code",
   "execution_count": 36,
   "id": "3a8f0380-3bc8-4e58-b13e-d21ac501e4fe",
   "metadata": {},
   "outputs": [],
   "source": [
    "A = 999999999999\n",
    "B = 999999999999"
   ]
  },
  {
   "cell_type": "code",
   "execution_count": 10,
   "id": "ee4f0d09-d182-442c-a572-dd22ba45680f",
   "metadata": {},
   "outputs": [
    {
     "data": {
      "text/plain": [
       "2"
      ]
     },
     "execution_count": 10,
     "metadata": {},
     "output_type": "execute_result"
    }
   ],
   "source": [
    "import math\n",
    "math.floor(math.log10(300))"
   ]
  },
  {
   "cell_type": "markdown",
   "id": "086af8da-2e23-4977-a9b8-7ad5e7b8d7f5",
   "metadata": {},
   "source": [
    "## Code"
   ]
  },
  {
   "cell_type": "code",
   "execution_count": 37,
   "id": "87df1aec-7f27-4ff4-a102-29c77aa4d29c",
   "metadata": {},
   "outputs": [
    {
     "name": "stdout",
     "output_type": "stream",
     "text": [
      "1\n"
     ]
    }
   ],
   "source": [
    "import math\n",
    "\n",
    "uniform = 0\n",
    "\n",
    "# B Stuff\n",
    "max_log = math.floor(math.log10(B))\n",
    "max_log_lead = str(B)[0]\n",
    "\n",
    "uniform += (int(max_log_lead) - 1)\n",
    "if(B >= int(max_log_lead * (max_log + 1))):\n",
    "    uniform += 1\n",
    "\n",
    "# A Stuff\n",
    "min_log = math.floor(math.log10(A))\n",
    "min_log_lead = str(A)[0]\n",
    "\n",
    "uniform += (9 - int(min_log_lead))\n",
    "if(A <= int(min_log_lead * (min_log + 1))):\n",
    "    uniform += 1\n",
    "\n",
    "# inbetween stuff\n",
    "uniform += ((max_log - min_log - 1) * 9)\n",
    "\n",
    "print(uniform)"
   ]
  },
  {
   "cell_type": "code",
   "execution_count": 16,
   "id": "894eec49-85da-481a-bbc3-ee4747935ef5",
   "metadata": {},
   "outputs": [
    {
     "data": {
      "text/plain": [
       "2"
      ]
     },
     "execution_count": 16,
     "metadata": {},
     "output_type": "execute_result"
    }
   ],
   "source": [
    "max_log"
   ]
  },
  {
   "cell_type": "code",
   "execution_count": 22,
   "id": "96934747-5eb4-4ff7-aa14-0bf9ef80bd09",
   "metadata": {},
   "outputs": [
    {
     "data": {
      "text/plain": [
       "'333'"
      ]
     },
     "execution_count": 22,
     "metadata": {},
     "output_type": "execute_result"
    }
   ],
   "source": [
    "max_log_lead * (max_log + 1)"
   ]
  },
  {
   "cell_type": "code",
   "execution_count": 17,
   "id": "e915727a-9b42-45e6-985e-879265cc94dc",
   "metadata": {},
   "outputs": [
    {
     "data": {
      "text/plain": [
       "1"
      ]
     },
     "execution_count": 17,
     "metadata": {},
     "output_type": "execute_result"
    }
   ],
   "source": [
    "min_log"
   ]
  },
  {
   "cell_type": "code",
   "execution_count": 19,
   "id": "4a3c5a87-1583-4bd4-a17e-f6c29e93667a",
   "metadata": {},
   "outputs": [
    {
     "data": {
      "text/plain": [
       "333"
      ]
     },
     "execution_count": 19,
     "metadata": {},
     "output_type": "execute_result"
    }
   ],
   "source": [
    "int('3' * (max_log + 1))"
   ]
  },
  {
   "cell_type": "code",
   "execution_count": null,
   "id": "592a8c3f-322f-40a2-8934-44d572692cbf",
   "metadata": {},
   "outputs": [],
   "source": []
  }
 ],
 "metadata": {
  "kernelspec": {
   "display_name": "Python 3 (ipykernel)",
   "language": "python",
   "name": "python3"
  },
  "language_info": {
   "codemirror_mode": {
    "name": "ipython",
    "version": 3
   },
   "file_extension": ".py",
   "mimetype": "text/x-python",
   "name": "python",
   "nbconvert_exporter": "python",
   "pygments_lexer": "ipython3",
   "version": "3.9.7"
  }
 },
 "nbformat": 4,
 "nbformat_minor": 5
}
