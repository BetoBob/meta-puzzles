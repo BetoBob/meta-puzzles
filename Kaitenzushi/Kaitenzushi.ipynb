{
 "cells": [
  {
   "cell_type": "markdown",
   "id": "1543cca9-f6ab-4426-ae13-41b9dc0399f7",
   "metadata": {},
   "source": [
    "# Kaitenzushi"
   ]
  },
  {
   "cell_type": "code",
   "execution_count": null,
   "id": "2f03c327-b29b-4d30-8470-9e12f5417980",
   "metadata": {},
   "outputs": [],
   "source": []
  },
  {
   "cell_type": "code",
   "execution_count": null,
   "id": "078a80b9-2881-4239-b16a-d595636a4a2a",
   "metadata": {},
   "outputs": [],
   "source": [
    "from typing import List\n",
    "# Write any import statements here\n",
    "\n",
    "def getMaximumEatenDishCount(N: int, D: List[int], K: int) -> int:\n",
    "  # Write your code here\n",
    "  return 0\n"
   ]
  },
  {
   "cell_type": "markdown",
   "id": "19c720cb-2a34-4c55-81b2-48caf3ebadf4",
   "metadata": {},
   "source": [
    "## Sample Cases"
   ]
  },
  {
   "cell_type": "code",
   "execution_count": 1,
   "id": "de86fcb7-25d7-4b44-8522-f27c33e06cf9",
   "metadata": {},
   "outputs": [],
   "source": [
    "# Case 1\n",
    "# return = 5\n",
    "N = 6\n",
    "D = [1, 2, 3, 3, 2, 1]\n",
    "K = 1"
   ]
  },
  {
   "cell_type": "code",
   "execution_count": 2,
   "id": "872976cc-4d71-4d69-bece-ef01fadafebc",
   "metadata": {},
   "outputs": [],
   "source": [
    "# Case 2\n",
    "# return = 4\n",
    "N = 6\n",
    "D = [1, 2, 3, 3, 2, 1]\n",
    "K = 2"
   ]
  },
  {
   "cell_type": "code",
   "execution_count": 20,
   "id": "24a69752-7d51-463e-b2f1-4008a704b7fb",
   "metadata": {},
   "outputs": [],
   "source": [
    "# Case 3\n",
    "# return = 2\n",
    "N = 7\n",
    "D = [1, 2, 1, 2, 1, 2, 1]\n",
    "K = 2"
   ]
  },
  {
   "cell_type": "markdown",
   "id": "dd71eb91-bf45-4a1c-be48-2190333ac6e8",
   "metadata": {},
   "source": [
    "## Attempt 1\n",
    "\n",
    "The code below works on 32 / 33 test cases. However it fails the time limit on one test case. I am assuming this has to do with not using a real queue data structure.\n",
    "\n",
    "* [Geeks for Geeks queue](https://www.geeksforgeeks.org/queue-in-python/)"
   ]
  },
  {
   "cell_type": "code",
   "execution_count": 23,
   "id": "d29eb73b-ee37-4272-819f-918ca26fe367",
   "metadata": {},
   "outputs": [],
   "source": [
    "from typing import List\n",
    "# Write any import statements here\n",
    "\n",
    "def getMaximumEatenDishCount(N: int, D: List[int], K: int) -> int:\n",
    "  queue = []\n",
    "  eats = 0\n",
    "\n",
    "  for d in D:\n",
    "\n",
    "      if d not in queue:\n",
    "          eats += 1\n",
    "\n",
    "          if len(queue) >= K:\n",
    "              queue.pop(0)\n",
    "\n",
    "          queue.append(d)\n",
    "\n",
    "  return eats\n",
    "        "
   ]
  },
  {
   "cell_type": "code",
   "execution_count": null,
   "id": "d17c933f-75b5-498a-bde4-952aa0fe70a8",
   "metadata": {},
   "outputs": [],
   "source": [
    "from typing import List\n",
    "# Write any import statements here\n",
    "\n",
    "def getMaximumEatenDishCount(N: int, D: List[int], K: int) -> int:\n",
    "  queue = []\n",
    "  eats = 0\n",
    "\n",
    "  for d in D:\n",
    "\n",
    "      if d not in queue:\n",
    "          eats += 1\n",
    "\n",
    "          if len(queue) >= K:\n",
    "              queue.pop(0)\n",
    "\n",
    "          queue.append(d)\n",
    "\n",
    "  return eats\n",
    "        "
   ]
  },
  {
   "cell_type": "markdown",
   "id": "2e6ac347-a2fd-4a7c-a047-969f397f49b9",
   "metadata": {},
   "source": [
    "## Queue Library Attempt\n",
    "\n",
    "This actually is worse in terms of time complexity ...\n",
    "\n",
    "Only passes 30 / 33 tests\n",
    "\n",
    "Also, the **queue.Queue** object does not work in this case because I can not convert that to a list to see if an item is in the queue. \n",
    "\n",
    "I believe I could make an O(1) efficient solution by making an array implementation of the queue. But I might as well just use Java with it's more efficient queue objects.\n",
    "\n",
    "* https://leetcode.com/discuss/interview-question/1682612/Facebook-or-Online-Puzzle-or-Kaitenzushi-Puzzle-Question"
   ]
  },
  {
   "cell_type": "code",
   "execution_count": 33,
   "id": "83344f42-a5a8-4b14-a13f-65942ff62a2d",
   "metadata": {},
   "outputs": [],
   "source": [
    "from typing import List\n",
    "# Write any import statements here\n",
    "from collections import deque\n",
    "\n",
    "def getMaximumEatenDishCount(N: int, D: List[int], K: int) -> int:\n",
    "  q = deque()\n",
    "  eats = 0\n",
    "\n",
    "  for d in D:\n",
    "\n",
    "      if d not in q:\n",
    "          eats += 1\n",
    "\n",
    "          if len(q) >= K:\n",
    "              q.popleft()\n",
    "\n",
    "          q.append(d)\n",
    "\n",
    "  return eats\n",
    "        "
   ]
  }
 ],
 "metadata": {
  "kernelspec": {
   "display_name": "Python 3 (ipykernel)",
   "language": "python",
   "name": "python3"
  },
  "language_info": {
   "codemirror_mode": {
    "name": "ipython",
    "version": 3
   },
   "file_extension": ".py",
   "mimetype": "text/x-python",
   "name": "python",
   "nbconvert_exporter": "python",
   "pygments_lexer": "ipython3",
   "version": "3.9.7"
  }
 },
 "nbformat": 4,
 "nbformat_minor": 5
}
