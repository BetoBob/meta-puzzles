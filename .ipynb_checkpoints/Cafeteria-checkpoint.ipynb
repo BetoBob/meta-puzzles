{
 "cells": [
  {
   "cell_type": "markdown",
   "id": "ee786807-b260-456d-8451-1a1fbc88a44c",
   "metadata": {},
   "source": [
    "# Level 1"
   ]
  },
  {
   "cell_type": "markdown",
   "id": "c41c9bc4-6c49-4e4c-8e6c-b5ac58582c8c",
   "metadata": {
    "tags": []
   },
   "source": [
    "## Cafeteria\n",
    "\n",
    "So are the people sitting at the table \"Last Super\" style? Maybe if this is like a diner.\n",
    "\n",
    "* currently passes 29 / 32 test cases; must be some edge case out there ..."
   ]
  },
  {
   "cell_type": "code",
   "execution_count": 20,
   "id": "9cf30a5d-3e89-4220-aaed-978ea7491169",
   "metadata": {},
   "outputs": [],
   "source": [
    "# ex1\n",
    "\n",
    "N = 10\n",
    "K = 1\n",
    "S = [2, 6]"
   ]
  },
  {
   "cell_type": "code",
   "execution_count": 4,
   "id": "2d1265d1-0b46-41b2-b0f9-d5bf0eab2d4e",
   "metadata": {},
   "outputs": [],
   "source": [
    "# ex2\n",
    "\n",
    "N = 15\n",
    "K = 2\n",
    "S = [11, 6, 14]"
   ]
  },
  {
   "cell_type": "markdown",
   "id": "2b131b55-ccba-406e-a074-47300af71790",
   "metadata": {},
   "source": [
    "### Function"
   ]
  },
  {
   "cell_type": "code",
   "execution_count": 6,
   "id": "3ca15bba-84b7-4f92-9626-63030b5ccd92",
   "metadata": {},
   "outputs": [],
   "source": [
    "import re, math"
   ]
  },
  {
   "cell_type": "code",
   "execution_count": 21,
   "id": "d2051bb2-f2c7-44b5-81d0-d76ba6fc049e",
   "metadata": {},
   "outputs": [],
   "source": [
    "table = ['0'] * N"
   ]
  },
  {
   "cell_type": "code",
   "execution_count": 22,
   "id": "e53ca25f-de9c-44a2-9ca0-a6d912473cb0",
   "metadata": {},
   "outputs": [],
   "source": [
    "# d as in diner\n",
    "for d in S:\n",
    "    d = d - 1 # assuming non-zero index\n",
    "    left = d - K if (d - K > 0) else 0\n",
    "    right = (d + K) if (d + K < N) else N\n",
    "    \n",
    "    table[left : right + 1] = ['1'] * (right - left + 1)"
   ]
  },
  {
   "cell_type": "code",
   "execution_count": 23,
   "id": "aebe04ed-d257-4d35-8ea9-95dc3c77ccfa",
   "metadata": {},
   "outputs": [
    {
     "data": {
      "text/plain": [
       "['1', '1', '1', '0', '1', '1', '1', '0', '0', '0']"
      ]
     },
     "execution_count": 23,
     "metadata": {},
     "output_type": "execute_result"
    }
   ],
   "source": [
    "table"
   ]
  },
  {
   "cell_type": "code",
   "execution_count": 15,
   "id": "2801092a-7fc1-4712-be68-ac3fa74ffd00",
   "metadata": {},
   "outputs": [],
   "source": [
    "empty = re.findall(r'0+', ''.join(table))"
   ]
  },
  {
   "cell_type": "code",
   "execution_count": 16,
   "id": "70e10136-c1d6-45a4-ad21-13c7f7d094ad",
   "metadata": {},
   "outputs": [
    {
     "data": {
      "text/plain": [
       "['0', '000']"
      ]
     },
     "execution_count": 16,
     "metadata": {},
     "output_type": "execute_result"
    }
   ],
   "source": [
    "empty"
   ]
  },
  {
   "cell_type": "code",
   "execution_count": 173,
   "id": "b8b46985-106b-460c-8637-7a20c777e4eb",
   "metadata": {},
   "outputs": [
    {
     "data": {
      "text/plain": [
       "0"
      ]
     },
     "execution_count": 173,
     "metadata": {},
     "output_type": "execute_result"
    }
   ],
   "source": [
    "sum([math.floor(1 + (len(n) - 1) / (K + 1)) for n in empty])"
   ]
  },
  {
   "cell_type": "code",
   "execution_count": 171,
   "id": "31973647-2a83-4bf8-b743-9576eeb804c7",
   "metadata": {},
   "outputs": [
    {
     "data": {
      "text/plain": [
       "0"
      ]
     },
     "execution_count": 171,
     "metadata": {},
     "output_type": "execute_result"
    }
   ],
   "source": [
    "sum([])"
   ]
  },
  {
   "cell_type": "code",
   "execution_count": 172,
   "id": "41c9f9cb-42a8-45fe-a708-36bc830f378b",
   "metadata": {},
   "outputs": [],
   "source": [
    "empty = []"
   ]
  },
  {
   "cell_type": "code",
   "execution_count": 28,
   "id": "2f5f7dd4",
   "metadata": {},
   "outputs": [],
   "source": [
    "from typing import List\n",
    "import re, math\n",
    "\n",
    "def getMaxAdditionalDinersCount(N: int, K: int, M: int, S: List[int]) -> int:\n",
    "  table = ['0'] * N\n",
    "  \n",
    "  # d as in diner\n",
    "  for d in S:\n",
    "      d = d - 1 # assuming non-zero index\n",
    "      left = d - K if (d - K > 0) else 0\n",
    "      right = (d + K) if (d + K < N) else N\n",
    "\n",
    "      table[left : right + 1] = ['1'] * (right - left + 1)\n",
    "      \n",
    "  empty = re.findall(r'0+', ''.join(table))\n",
    "  \n",
    "  return sum([math.floor(1 + (len(n) - 1) / (K + 1)) for n in empty])"
   ]
  },
  {
   "cell_type": "markdown",
   "id": "926a4ebb-01d8-4642-92c9-b402f92e4437",
   "metadata": {},
   "source": [
    "### Edge"
   ]
  },
  {
   "cell_type": "code",
   "execution_count": 31,
   "id": "14a2ff55-e856-4f7d-9c33-9fb94463485b",
   "metadata": {},
   "outputs": [],
   "source": [
    "# ex1\n",
    "\n",
    "N = 10\n",
    "K = 1\n",
    "M = 3\n",
    "S = [2, 6, 10]"
   ]
  },
  {
   "cell_type": "code",
   "execution_count": 32,
   "id": "9d68bcb7",
   "metadata": {},
   "outputs": [
    {
     "data": {
      "text/plain": [
       "2"
      ]
     },
     "execution_count": 32,
     "metadata": {},
     "output_type": "execute_result"
    }
   ],
   "source": [
    "getMaxAdditionalDinersCount(N, K, M, S)"
   ]
  },
  {
   "cell_type": "markdown",
   "id": "db54e55e",
   "metadata": {},
   "source": [
    "### Quantum73 Solution\n",
    "\n",
    "* solution post: https://leetcode.com/discuss/interview-question/1376859/facebook-puzzle"
   ]
  },
  {
   "cell_type": "code",
   "execution_count": 19,
   "id": "9c9c1d9e",
   "metadata": {},
   "outputs": [],
   "source": [
    "# ex1\n",
    "\n",
    "N = 10\n",
    "K = 1\n",
    "S = [2, 6]"
   ]
  },
  {
   "cell_type": "code",
   "execution_count": 18,
   "id": "3177d561",
   "metadata": {},
   "outputs": [],
   "source": [
    "from typing import List\n",
    "\n",
    "def getMaxAdditionalDinersCount(N: int, K: int, M: int, S: List[int]) -> int:\n",
    "    S.sort()\n",
    "    \n",
    "    # res is the number of people that can be seated\n",
    "    start, res = 1, 0\n",
    "    \n",
    "    # mystery chair at end of table?\n",
    "    S.append(N+K+1)\n",
    "    \n",
    "    for s in S:\n",
    "        \n",
    "        delta = s-K-start\n",
    "        \n",
    "        if delta > 0: \n",
    "            res += math.ceil(delta / (K+1))\n",
    "        start = s+K+1\n",
    "    return res"
   ]
  },
  {
   "cell_type": "code",
   "execution_count": 33,
   "id": "60255502",
   "metadata": {},
   "outputs": [],
   "source": [
    "def getMaxAdditionalDinersCount(N: int, K: int, M: int, S: List[int]) -> int:\n",
    "    \n",
    "    # we will be observing the seating options from left to right\n",
    "    S.sort()\n",
    "    \n",
    "    seats = 0\n",
    "    ci = 1 # check index\n",
    "    \n",
    "    # this checks any remaining seats available at the end of the table\n",
    "    S.append(N+K+1)\n",
    "    \n",
    "    for s in S:\n",
    "        \n",
    "        delta = s - K - ci\n",
    "        \n",
    "        if delta > 0:\n",
    "            seats += math.ceil(delta / (K+1))\n",
    "            \n",
    "        ci = s+K+1\n",
    "        \n",
    "    return seats"
   ]
  },
  {
   "cell_type": "markdown",
   "id": "2a58cb02-3f11-48a0-95c7-328c2014c7ff",
   "metadata": {},
   "source": [
    "## Director of Photography"
   ]
  },
  {
   "cell_type": "code",
   "execution_count": null,
   "id": "a4a59518-2dcd-4d73-8acb-6ecc3790135f",
   "metadata": {},
   "outputs": [],
   "source": [
    "# ex1\n",
    "N = 5\n",
    "C = \"APABA\"\n",
    "X = 1\n",
    "Y = 2"
   ]
  },
  {
   "cell_type": "code",
   "execution_count": null,
   "id": "e7791f4a-ec97-4c14-81a2-cf1f867c699c",
   "metadata": {},
   "outputs": [],
   "source": [
    "# ex2\n",
    "N = 5\n",
    "C = \"APABA\"\n",
    "X = 2\n",
    "Y = 3"
   ]
  },
  {
   "cell_type": "code",
   "execution_count": 1,
   "id": "9fff7fce-f45d-49a9-b1e3-5ec9ed936c7d",
   "metadata": {},
   "outputs": [],
   "source": [
    "# ex3\n",
    "N = 8\n",
    "C = \".PBAAP.B\"\n",
    "X = 1\n",
    "Y = 3"
   ]
  },
  {
   "cell_type": "code",
   "execution_count": null,
   "id": "bca4795c-6ade-4139-b96e-61716081cfe1",
   "metadata": {},
   "outputs": [],
   "source": []
  }
 ],
 "metadata": {
  "kernelspec": {
   "display_name": "Python 3 (ipykernel)",
   "language": "python",
   "name": "python3"
  },
  "language_info": {
   "codemirror_mode": {
    "name": "ipython",
    "version": 3
   },
   "file_extension": ".py",
   "mimetype": "text/x-python",
   "name": "python",
   "nbconvert_exporter": "python",
   "pygments_lexer": "ipython3",
   "version": "3.9.7"
  }
 },
 "nbformat": 4,
 "nbformat_minor": 5
}
