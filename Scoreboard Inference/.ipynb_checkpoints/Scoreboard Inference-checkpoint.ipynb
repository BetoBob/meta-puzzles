{
 "cells": [
  {
   "cell_type": "markdown",
   "id": "7cf5a776-caed-463a-a6ea-0fd6f7003e53",
   "metadata": {},
   "source": [
    "# Scoreboard Inference"
   ]
  },
  {
   "cell_type": "code",
   "execution_count": 4,
   "id": "d2ba6f3d-691f-412c-aabb-2e7d4c8450fb",
   "metadata": {},
   "outputs": [],
   "source": [
    "N = 6\n",
    "S = [1, 2, 3, 4, 5, 6]"
   ]
  },
  {
   "cell_type": "code",
   "execution_count": 18,
   "id": "4005a98a-d52a-4279-b124-a676455c28cb",
   "metadata": {},
   "outputs": [],
   "source": [
    "N = 4\n",
    "S = [4, 3, 3, 4]"
   ]
  },
  {
   "cell_type": "code",
   "execution_count": 22,
   "id": "8222dc48-5ee5-4d4f-8a90-1a87bc31839d",
   "metadata": {},
   "outputs": [],
   "source": [
    "N = 4\n",
    "S = [2, 4, 6, 8]"
   ]
  },
  {
   "cell_type": "markdown",
   "id": "4b044b66-e889-4429-ba16-2432c6e14845",
   "metadata": {},
   "source": [
    "## Code"
   ]
  },
  {
   "cell_type": "code",
   "execution_count": 23,
   "id": "322af271-ec97-4789-b71f-980734d5cbc6",
   "metadata": {},
   "outputs": [],
   "source": [
    "possible_scores = list(set(S))"
   ]
  },
  {
   "cell_type": "code",
   "execution_count": 24,
   "id": "ae0cf00c-b4d0-402a-902f-388f3cbb2433",
   "metadata": {},
   "outputs": [
    {
     "data": {
      "text/plain": [
       "[8, 2, 4, 6]"
      ]
     },
     "execution_count": 24,
     "metadata": {},
     "output_type": "execute_result"
    }
   ],
   "source": [
    "possible_scores"
   ]
  },
  {
   "cell_type": "code",
   "execution_count": 27,
   "id": "2721fb3b-08fe-45fb-b525-0a11f1eccb6a",
   "metadata": {},
   "outputs": [
    {
     "data": {
      "text/plain": [
       "4.0"
      ]
     },
     "execution_count": 27,
     "metadata": {},
     "output_type": "execute_result"
    }
   ],
   "source": [
    "possible_scores = list(set(S))\n",
    "odds = 0\n",
    "evens = []\n",
    "\n",
    "for s in possible_scores:\n",
    "    if (s % 2 == 1):\n",
    "        odds = 1\n",
    "    else:\n",
    "        evens.append(s)\n",
    "   \n",
    "(max(evens) / 2) + odds"
   ]
  },
  {
   "cell_type": "code",
   "execution_count": 8,
   "id": "80f2c6e5-e46a-4599-bb82-941946f20706",
   "metadata": {},
   "outputs": [
    {
     "data": {
      "text/plain": [
       "1"
      ]
     },
     "execution_count": 8,
     "metadata": {},
     "output_type": "execute_result"
    }
   ],
   "source": [
    "possible_scores[0]"
   ]
  },
  {
   "cell_type": "code",
   "execution_count": null,
   "id": "a7922113-5f71-4b3e-9de2-512931b82404",
   "metadata": {},
   "outputs": [],
   "source": []
  }
 ],
 "metadata": {
  "kernelspec": {
   "display_name": "Python 3 (ipykernel)",
   "language": "python",
   "name": "python3"
  },
  "language_info": {
   "codemirror_mode": {
    "name": "ipython",
    "version": 3
   },
   "file_extension": ".py",
   "mimetype": "text/x-python",
   "name": "python",
   "nbconvert_exporter": "python",
   "pygments_lexer": "ipython3",
   "version": "3.9.7"
  }
 },
 "nbformat": 4,
 "nbformat_minor": 5
}
