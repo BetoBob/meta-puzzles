{
 "cells": [
  {
   "cell_type": "markdown",
   "id": "7cf5a776-caed-463a-a6ea-0fd6f7003e53",
   "metadata": {},
   "source": [
    "# Scoreboard Inference"
   ]
  },
  {
   "cell_type": "markdown",
   "id": "ef87b7ac-cba2-4ced-ae05-73f5f9493d54",
   "metadata": {},
   "source": [
    "## Test Cases"
   ]
  },
  {
   "cell_type": "code",
   "execution_count": 47,
   "id": "d2ba6f3d-691f-412c-aabb-2e7d4c8450fb",
   "metadata": {},
   "outputs": [],
   "source": [
    "# expected: 4\n",
    "N = 6\n",
    "S = [1, 2, 3, 4, 5, 6]"
   ]
  },
  {
   "cell_type": "code",
   "execution_count": 50,
   "id": "4005a98a-d52a-4279-b124-a676455c28cb",
   "metadata": {},
   "outputs": [],
   "source": [
    "N = 4\n",
    "S = [4, 3, 3, 4]"
   ]
  },
  {
   "cell_type": "code",
   "execution_count": 52,
   "id": "8222dc48-5ee5-4d4f-8a90-1a87bc31839d",
   "metadata": {},
   "outputs": [],
   "source": [
    "N = 4\n",
    "S = [2, 4, 6, 8]"
   ]
  },
  {
   "cell_type": "markdown",
   "id": "a455f5df-103d-445d-88b6-94d0c40aa98e",
   "metadata": {},
   "source": [
    "### My Test Cases"
   ]
  },
  {
   "cell_type": "code",
   "execution_count": 41,
   "id": "ac7a4ae7-ca58-4d15-839a-f6a527984bf8",
   "metadata": {},
   "outputs": [],
   "source": [
    "# expected: 1\n",
    "N = 1\n",
    "S = [1]"
   ]
  },
  {
   "cell_type": "markdown",
   "id": "4b044b66-e889-4429-ba16-2432c6e14845",
   "metadata": {},
   "source": [
    "## Code\n",
    "\n",
    "* need to use 'int' to pass test cases"
   ]
  },
  {
   "cell_type": "code",
   "execution_count": 42,
   "id": "322af271-ec97-4789-b71f-980734d5cbc6",
   "metadata": {},
   "outputs": [],
   "source": [
    "possible_scores = list(set(S))"
   ]
  },
  {
   "cell_type": "code",
   "execution_count": 43,
   "id": "ae0cf00c-b4d0-402a-902f-388f3cbb2433",
   "metadata": {},
   "outputs": [
    {
     "data": {
      "text/plain": [
       "[1]"
      ]
     },
     "execution_count": 43,
     "metadata": {},
     "output_type": "execute_result"
    }
   ],
   "source": [
    "possible_scores"
   ]
  },
  {
   "cell_type": "code",
   "execution_count": 53,
   "id": "2721fb3b-08fe-45fb-b525-0a11f1eccb6a",
   "metadata": {},
   "outputs": [
    {
     "data": {
      "text/plain": [
       "4"
      ]
     },
     "execution_count": 53,
     "metadata": {},
     "output_type": "execute_result"
    }
   ],
   "source": [
    "possible_scores = list(set(S))\n",
    "odds = 0\n",
    "\n",
    "for s in possible_scores:\n",
    "    if (s % 2 == 1):\n",
    "        odds = 1\n",
    "        break\n",
    "    \n",
    "int((max(possible_scores) // 2) + odds)"
   ]
  },
  {
   "cell_type": "markdown",
   "id": "6af3fe55-bad5-4015-ad58-a038ad96d198",
   "metadata": {},
   "source": [
    "## Level 2"
   ]
  },
  {
   "cell_type": "markdown",
   "id": "4024ccf6-2a17-4d97-9176-2b9f4fcc642c",
   "metadata": {},
   "source": [
    "### Tests"
   ]
  },
  {
   "cell_type": "code",
   "execution_count": 54,
   "id": "6ea3fc1a-1040-4a71-bb03-8c1efbdf6efe",
   "metadata": {},
   "outputs": [],
   "source": [
    "N = 5\n",
    "S = [1, 2, 3, 4, 5]"
   ]
  },
  {
   "cell_type": "code",
   "execution_count": 55,
   "id": "a69106ed-d621-4f8f-ace8-0eb3f201d301",
   "metadata": {},
   "outputs": [],
   "source": [
    "N = 4\n",
    "S = [4, 3, 3, 4]"
   ]
  },
  {
   "cell_type": "code",
   "execution_count": 56,
   "id": "9106508a-0b12-4ab2-a93c-6bf3d4502655",
   "metadata": {},
   "outputs": [],
   "source": [
    "N = 4\n",
    "S = [2, 4, 6, 8]"
   ]
  },
  {
   "cell_type": "code",
   "execution_count": 57,
   "id": "6a9cf08c-2c2d-4f59-a595-448f6ec35a6d",
   "metadata": {},
   "outputs": [],
   "source": [
    "N = 1\n",
    "S = [8]"
   ]
  }
 ],
 "metadata": {
  "kernelspec": {
   "display_name": "Python 3 (ipykernel)",
   "language": "python",
   "name": "python3"
  },
  "language_info": {
   "codemirror_mode": {
    "name": "ipython",
    "version": 3
   },
   "file_extension": ".py",
   "mimetype": "text/x-python",
   "name": "python",
   "nbconvert_exporter": "python",
   "pygments_lexer": "ipython3",
   "version": "3.9.7"
  }
 },
 "nbformat": 4,
 "nbformat_minor": 5
}
