{
 "cells": [
  {
   "cell_type": "markdown",
   "id": "9f468b79-ef76-4c9f-8a40-0b426aa9502b",
   "metadata": {},
   "source": [
    "# Meta Warm up"
   ]
  },
  {
   "cell_type": "markdown",
   "id": "33980cf2-cf19-4e97-8af1-7f1366e1fd0c",
   "metadata": {},
   "source": [
    "## All Wrong"
   ]
  },
  {
   "cell_type": "code",
   "execution_count": 1,
   "id": "e46058b3-02ab-42f6-b226-d03119d4bc41",
   "metadata": {},
   "outputs": [],
   "source": [
    "import re"
   ]
  },
  {
   "cell_type": "code",
   "execution_count": 2,
   "id": "0c2c35f4-c19b-4b2d-8329-397b222b5b48",
   "metadata": {},
   "outputs": [],
   "source": [
    "ex1 = \"ABA\"\n",
    "ex2 = \"BBBBB\""
   ]
  },
  {
   "cell_type": "code",
   "execution_count": 6,
   "id": "14740b51-9cca-4270-beab-54ee9c777cd5",
   "metadata": {},
   "outputs": [
    {
     "data": {
      "text/plain": [
       "'BAB'"
      ]
     },
     "execution_count": 6,
     "metadata": {},
     "output_type": "execute_result"
    }
   ],
   "source": [
    "s = ex1\n",
    "\n",
    "''.join(['A' if x == 'B' else 'B' for x in s])"
   ]
  },
  {
   "cell_type": "markdown",
   "id": "bda3735d-b2d0-428b-a2ad-f449f996359c",
   "metadata": {},
   "source": [
    "## Battleship"
   ]
  },
  {
   "cell_type": "code",
   "execution_count": 9,
   "id": "d918b5d7-896b-4a08-94a6-c13be34c4611",
   "metadata": {},
   "outputs": [],
   "source": [
    "ex1 = [[0, 0, 1],[1,0,1]]\n",
    "ex2 = [[1,1],[1,1]]"
   ]
  },
  {
   "cell_type": "code",
   "execution_count": 19,
   "id": "7e010714-a88d-4d13-8e57-c9d191a8db91",
   "metadata": {},
   "outputs": [
    {
     "data": {
      "text/plain": [
       "0.5"
      ]
     },
     "execution_count": 19,
     "metadata": {},
     "output_type": "execute_result"
    }
   ],
   "source": [
    "G = ex1\n",
    "\n",
    "total = len(G) * len(G[0])\n",
    "\n",
    "ship = sum([sum(x) for x in G])\n",
    "\n",
    "ship / total"
   ]
  },
  {
   "cell_type": "code",
   "execution_count": null,
   "id": "ecae49ac-2b07-4142-8e72-71ae24d14eab",
   "metadata": {},
   "outputs": [],
   "source": []
  }
 ],
 "metadata": {
  "kernelspec": {
   "display_name": "Python 3 (ipykernel)",
   "language": "python",
   "name": "python3"
  },
  "language_info": {
   "codemirror_mode": {
    "name": "ipython",
    "version": 3
   },
   "file_extension": ".py",
   "mimetype": "text/x-python",
   "name": "python",
   "nbconvert_exporter": "python",
   "pygments_lexer": "ipython3",
   "version": "3.9.7"
  }
 },
 "nbformat": 4,
 "nbformat_minor": 5
}
