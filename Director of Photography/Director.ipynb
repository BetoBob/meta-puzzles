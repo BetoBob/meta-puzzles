{
 "cells": [
  {
   "cell_type": "markdown",
   "id": "a7e855ba-c66d-47d4-b7c4-2758488968a7",
   "metadata": {},
   "source": [
    "# Director of Photography\n",
    "\n",
    "* solutions works for level 1\n",
    "* needs further optimization to complete level 2 (passes 33 / 39)\n",
    "    * 2 runtime errors\n",
    "    * 4 time exceeded"
   ]
  },
  {
   "cell_type": "code",
   "execution_count": 1,
   "id": "c65aa226-e152-45fa-bf5b-a2a7b1b6b24b",
   "metadata": {},
   "outputs": [],
   "source": [
    "# Write any import statements here\n",
    "\n",
    "def getArtisticPhotographCount(N: int, C: str, X: int, Y: int) -> int:\n",
    "  # Write your code here\n",
    "  return 0\n"
   ]
  },
  {
   "cell_type": "markdown",
   "id": "5240eff3-3152-49c2-883f-7df03d32761c",
   "metadata": {},
   "source": [
    "## Example Cases"
   ]
  },
  {
   "cell_type": "code",
   "execution_count": 75,
   "id": "243eff12-fa93-4975-8111-8d8f8734d4cd",
   "metadata": {},
   "outputs": [],
   "source": [
    "# Case #1\n",
    "# Out: 1\n",
    "N = 5\n",
    "C = \"APABA\"\n",
    "X = 1\n",
    "Y = 2"
   ]
  },
  {
   "cell_type": "code",
   "execution_count": 50,
   "id": "8b4d8aad-ea30-4e10-8a79-66dc9174479b",
   "metadata": {},
   "outputs": [],
   "source": [
    "# Case #2\n",
    "# Out: 0\n",
    "N = 5\n",
    "C = \"APABA\"\n",
    "X = 2\n",
    "Y = 3"
   ]
  },
  {
   "cell_type": "code",
   "execution_count": 52,
   "id": "763767b0-decb-4e46-9248-8da915668d3e",
   "metadata": {},
   "outputs": [],
   "source": [
    "# Case #3\n",
    "# Out: 3\n",
    "N = 8\n",
    "C = \".PBAAP.B\"\n",
    "X = 1\n",
    "Y = 3"
   ]
  },
  {
   "cell_type": "markdown",
   "id": "ab7037f6-79aa-4515-a1f5-f23fb467a480",
   "metadata": {},
   "source": [
    "### My Tests"
   ]
  },
  {
   "cell_type": "code",
   "execution_count": 69,
   "id": "08edb284-62e9-4c7f-8fd3-436b556884af",
   "metadata": {},
   "outputs": [],
   "source": [
    "# expected output: 0\n",
    "N = 1\n",
    "C = \"P\"\n",
    "X = 1\n",
    "Y = 1"
   ]
  },
  {
   "cell_type": "code",
   "execution_count": 79,
   "id": "dc629472-0608-482d-9e0b-cd95f1c269e6",
   "metadata": {},
   "outputs": [],
   "source": [
    "# expected output: 1\n",
    "\n",
    "N = 3\n",
    "C = \"PAB\"\n",
    "X = 1\n",
    "Y = 1"
   ]
  },
  {
   "cell_type": "code",
   "execution_count": 73,
   "id": "5d3d78d0-8232-4080-994c-c60ca40648e8",
   "metadata": {},
   "outputs": [],
   "source": [
    "# expected output: 1\n",
    "\n",
    "N = 3\n",
    "C = \"BAP\"\n",
    "X = 1\n",
    "Y = 1"
   ]
  },
  {
   "cell_type": "markdown",
   "id": "a23df855-5037-47fe-8610-0586e6a42835",
   "metadata": {},
   "source": [
    "## Code"
   ]
  },
  {
   "cell_type": "code",
   "execution_count": 75,
   "id": "1ec009a4-85b0-4751-ad8c-8748009fd7df",
   "metadata": {},
   "outputs": [
    {
     "name": "stdout",
     "output_type": "stream",
     "text": [
      "P: 2\n",
      "right too short\n",
      "art: 1\n",
      "\n",
      "1\n"
     ]
    }
   ],
   "source": [
    "# i for index\n",
    "# t for type\n",
    "\n",
    "art = 0\n",
    "\n",
    "for (i, t) in enumerate(C):\n",
    "    if(t == 'P'):\n",
    "        print(\"P: \" + str(i))\n",
    "        \n",
    "        # check left of p\n",
    "        if (i < (X * 2)):\n",
    "            print(\"left too short\")\n",
    "            \n",
    "        else:\n",
    "            for x1 in range(i - X, i - Y - 1, -1):\n",
    "                if(x1 < 0):\n",
    "                    print(\"too little x1\")\n",
    "                elif(C[x1] == 'A'):\n",
    "                    for x2 in range(x1 - X, x1 - Y - 1, -1):\n",
    "                        if(x2 < 0):\n",
    "                            print(\"too little x2\")\n",
    "                        elif(C[x2] == 'B'):\n",
    "                            art += 1\n",
    "        \n",
    "        # check right of p\n",
    "        if (N - i < (X * 2)):\n",
    "            print(\"right too short\")\n",
    "        \n",
    "        else:\n",
    "            for x1 in range(i + X, i + Y + 1):\n",
    "                if(x1 > N - 1):\n",
    "                    print(\"too much\")\n",
    "                elif(C[x1] == 'A'):\n",
    "                    print('A: ' + str(x1))\n",
    "                    for x2 in range(x1 + X, x1 + Y + 1):\n",
    "                        if(x2 > N - 1):\n",
    "                            print(\"too much\")\n",
    "                        elif(C[x2] == 'B'):\n",
    "                            art += 1\n",
    "    \n",
    "        print(\"art: \" + str(art) + \"\\n\")\n",
    "                            \n",
    "print(art)\n",
    "            "
   ]
  },
  {
   "cell_type": "markdown",
   "id": "eaae7956-2790-4612-9132-203706750f8c",
   "metadata": {},
   "source": [
    "## Code Cleanup\n",
    "\n",
    "* this cleanup passes 34 / 39 test cases\n",
    "* time limit exceeded on 5 test cases"
   ]
  },
  {
   "cell_type": "code",
   "execution_count": 15,
   "id": "abdb7307-593a-4b10-8471-e9652b99b7bd",
   "metadata": {},
   "outputs": [],
   "source": [
    "# Write any import statements here\n",
    "\n",
    "def getArtisticPhotographCount(N: int, C: str, X: int, Y: int) -> int:\n",
    "\n",
    "  # i for index\n",
    "  # t for type\n",
    "\n",
    "  art = 0\n",
    "\n",
    "  for (i, t) in enumerate(C):\n",
    "      if(t == 'P'):\n",
    "\n",
    "          # check left of p\n",
    "          if (i >= (X * 2)):\n",
    "              for x1 in range(i - X, i - Y - 1, -1):\n",
    "                  if(x1 < 0):\n",
    "                      break\n",
    "                  if(C[x1] == 'A'):\n",
    "                      for x2 in range(x1 - X, x1 - Y - 1, -1):\n",
    "                          if(x2 < 0):\n",
    "                              break\n",
    "                          elif(C[x2] == 'B'):\n",
    "                              art += 1\n",
    "\n",
    "          # check right of p\n",
    "          if (N - i >= (X * 2)):\n",
    "              for x1 in range(i + X, i + Y + 1):\n",
    "                  if(x1 > N - 1):\n",
    "                      break\n",
    "                  if(C[x1] == 'A'):\n",
    "                      for x2 in range(x1 + X, x1 + Y + 1):\n",
    "                          if(x2 > N - 1):\n",
    "                              break\n",
    "                          elif(C[x2] == 'B'):\n",
    "                              art += 1\n",
    "\n",
    "\n",
    "  return art"
   ]
  },
  {
   "cell_type": "code",
   "execution_count": 16,
   "id": "187bb5c4-9ac9-4791-a3a2-f7184c6f9049",
   "metadata": {},
   "outputs": [
    {
     "data": {
      "text/plain": [
       "3"
      ]
     },
     "execution_count": 16,
     "metadata": {},
     "output_type": "execute_result"
    }
   ],
   "source": [
    "getArtisticPhotographCount(N, C, X, Y)"
   ]
  },
  {
   "cell_type": "markdown",
   "id": "c2abf7b5-064a-4d3e-bb43-c69c87f5f0d4",
   "metadata": {},
   "source": [
    "## 'A' approach\n",
    "\n",
    "* my hope with this one was to decrease my solution to O(N^2) time versus O(N^3)\n",
    "* this solutions passes 35 / 39 test cases"
   ]
  },
  {
   "cell_type": "code",
   "execution_count": 41,
   "id": "acc11f62-b947-4b2f-8544-3ed860a6f916",
   "metadata": {},
   "outputs": [
    {
     "name": "stdout",
     "output_type": "stream",
     "text": [
      "3\n"
     ]
    }
   ],
   "source": [
    "art = 0\n",
    "\n",
    "for (i, t) in enumerate(C):\n",
    "    if(t == 'A' and i >= X and (N - i) >= X):\n",
    "        \n",
    "        Bl = 0\n",
    "        Pl = 0\n",
    "        Br = 0\n",
    "        Pr = 0\n",
    "        \n",
    "        # check left of A\n",
    "        for x1 in range(i - X, i - Y - 1, -1):\n",
    "            if(x1 < 0):\n",
    "                break\n",
    "                    \n",
    "            if (C[x1] == 'B'):\n",
    "                Bl += 1\n",
    "            elif (C[x1] == 'P'):\n",
    "                Pl += 1\n",
    "                    \n",
    "        # check right of A\n",
    "        for x1 in range(i + X, i + Y + 1):\n",
    "            if(x1 > N - 1):\n",
    "                break\n",
    "                    \n",
    "            if (C[x1] == 'B'):\n",
    "                Br += 1\n",
    "            elif (C[x1] == 'P'):\n",
    "                Pr += 1\n",
    "                \n",
    "        art += ((Bl * Pr) + (Pl * Br))     \n",
    "        \n",
    "print(art)"
   ]
  },
  {
   "cell_type": "code",
   "execution_count": null,
   "id": "e7f3414e-ccd3-4d1b-aee2-0d6e75229689",
   "metadata": {},
   "outputs": [],
   "source": [
    "# Write any import statements here\n",
    "\n",
    "def getArtisticPhotographCount(N: int, C: str, X: int, Y: int) -> int:\n",
    "\n",
    "  art = 0\n",
    "\n",
    "  for (i, t) in enumerate(C):\n",
    "      if(t == 'A' and i >= X and (N - i) >= X):\n",
    "\n",
    "          Bl = 0\n",
    "          Pl = 0\n",
    "          Br = 0\n",
    "          Pr = 0\n",
    "\n",
    "          # check left of A\n",
    "          for x1 in range(i - X, i - Y - 1, -1):\n",
    "              if(x1 < 0):\n",
    "                  break\n",
    "\n",
    "              if (C[x1] == 'B'):\n",
    "                  Bl += 1\n",
    "              elif (C[x1] == 'P'):\n",
    "                  Pl += 1\n",
    "\n",
    "          # check right of A\n",
    "          for x1 in range(i + X, i + Y + 1):\n",
    "              if(x1 > N - 1):\n",
    "                  break\n",
    "\n",
    "              if (C[x1] == 'B'):\n",
    "                  Br += 1\n",
    "              elif (C[x1] == 'P'):\n",
    "                  Pr += 1\n",
    "\n",
    "          art += (Bl * Pr) + (Pl * Br)     \n",
    "\n",
    "  return art"
   ]
  },
  {
   "cell_type": "markdown",
   "id": "a06ac3ab-44ee-4627-b874-faf4a4c54320",
   "metadata": {},
   "source": [
    "### Window Method\n",
    "\n",
    "* need to fix something with the ranges in left Window and right Window initial and check other edge cases"
   ]
  },
  {
   "cell_type": "code",
   "execution_count": 90,
   "id": "e563cbca-3a14-4e96-bb34-8ee185dd584d",
   "metadata": {},
   "outputs": [
    {
     "name": "stdout",
     "output_type": "stream",
     "text": [
      "{'P': 1, 'B': 0, 'A': 0, '.': 0}\n",
      "{'P': 0, 'B': 1, 'A': 0, '.': 0}\n",
      "1\n"
     ]
    }
   ],
   "source": [
    "left_window = {\n",
    "    \"P\" : 0,\n",
    "    \"B\" : 0,\n",
    "    \"A\" : 0,\n",
    "    \".\" : 0\n",
    "}\n",
    "\n",
    "right_window = {\n",
    "    \"P\" : 0,\n",
    "    \"B\" : 0,\n",
    "    \"A\" : 0,\n",
    "    \".\" : 0\n",
    "}\n",
    "\n",
    "count = 0\n",
    "\n",
    "first_A = C.index('A')\n",
    "\n",
    "# fill left Window initial\n",
    "if (first_A - X >= 0):\n",
    "    lw = 0 if (first_A - Y <= 0) else (first_A - Y)\n",
    "    for i in range(lw, first_A - X + 1):\n",
    "        left_window[C[i]] += 1\n",
    "\n",
    "# fill right window initial\n",
    "if (first_A + X < N):\n",
    "    rw = N if (first_A + Y + 1 > N) else first_A + Y + 1\n",
    "    for i in range(first_A + X, rw):\n",
    "        right_window[C[i]] += 1\n",
    "    \n",
    "print(left_window)\n",
    "print(right_window)\n",
    "\n",
    "# t as in type\n",
    "for i in range(first_A, N):\n",
    "    \n",
    "    if (C[i] == 'A'):\n",
    "        count += (left_window[\"P\"] * right_window[\"B\"]) + (left_window[\"B\"] * right_window[\"P\"])\n",
    "\n",
    "    if(i - Y >= 0):\n",
    "        left_window[C[i - Y]] -= 1\n",
    "        \n",
    "    if (i - X + 1 >= 0):\n",
    "        left_window[C[i - X + 1]] += 1\n",
    "        \n",
    "    if (i + X < N):\n",
    "        right_window[C[i + X]] -= 1\n",
    "        \n",
    "    if (i + Y + 1 < N):\n",
    "        right_window[C[i + Y + 1]] += 1\n",
    "        \n",
    "print(count)"
   ]
  },
  {
   "cell_type": "code",
   "execution_count": 91,
   "id": "3b4ab883-c01d-4d22-adf6-c1b83a0376c3",
   "metadata": {},
   "outputs": [],
   "source": [
    "# Write any import statements here\n",
    "\n",
    "def getArtisticPhotographCount(N: int, C: str, X: int, Y: int) -> int:\n",
    "\n",
    "  left_window = {\n",
    "    \"P\" : 0,\n",
    "    \"B\" : 0,\n",
    "    \"A\" : 0,\n",
    "    \".\" : 0 \n",
    "  }\n",
    "  \n",
    "  right_window = {\n",
    "    \"P\" : 0,\n",
    "    \"B\" : 0,\n",
    "    \"A\" : 0,\n",
    "    \".\" : 0\n",
    "  }\n",
    "  \n",
    "  count = 0\n",
    "  \n",
    "  # check if actors exist\n",
    "  if ('A' not in C):\n",
    "    return 0\n",
    "\n",
    "  first_A = C.index('A')\n",
    "\n",
    "  # fill left Window initial\n",
    "  if (first_A - X >= 0):\n",
    "      lw = 0 if (first_A - Y <= 0) else (first_A - Y)\n",
    "      for i in range(lw, first_A - X + 1):\n",
    "          left_window[C[i]] += 1\n",
    "\n",
    "  # fill right window initial\n",
    "  if (first_A + X < N):\n",
    "      rw = N if (first_A + Y + 1 > N) else first_A + Y + 1\n",
    "      for i in range(first_A + X, rw):\n",
    "          right_window[C[i]] += 1\n",
    "\n",
    "  # t as in type\n",
    "  for i in range(first_A, N):\n",
    "\n",
    "      if (C[i] == 'A'):\n",
    "          count += (left_window[\"P\"] * right_window[\"B\"]) + (left_window[\"B\"] * right_window[\"P\"])\n",
    "\n",
    "      if(i - Y >= 0):\n",
    "          left_window[C[i - Y]] -= 1\n",
    "\n",
    "      if (i - X + 1 >= 0):\n",
    "          left_window[C[i - X + 1]] += 1\n",
    "\n",
    "      if (i + X < N):\n",
    "          right_window[C[i + X]] -= 1\n",
    "\n",
    "      if (i + Y + 1 < N):\n",
    "          right_window[C[i + Y + 1]] += 1\n",
    "\n",
    "  return count"
   ]
  },
  {
   "cell_type": "code",
   "execution_count": null,
   "id": "e3af8c0f-fb83-4dfe-8363-41775abcb948",
   "metadata": {},
   "outputs": [],
   "source": []
  }
 ],
 "metadata": {
  "kernelspec": {
   "display_name": "Python 3 (ipykernel)",
   "language": "python",
   "name": "python3"
  },
  "language_info": {
   "codemirror_mode": {
    "name": "ipython",
    "version": 3
   },
   "file_extension": ".py",
   "mimetype": "text/x-python",
   "name": "python",
   "nbconvert_exporter": "python",
   "pygments_lexer": "ipython3",
   "version": "3.9.7"
  }
 },
 "nbformat": 4,
 "nbformat_minor": 5
}
