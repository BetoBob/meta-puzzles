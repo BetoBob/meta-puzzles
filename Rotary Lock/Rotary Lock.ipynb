{
 "cells": [
  {
   "cell_type": "markdown",
   "id": "378f7ccf-d54f-45d0-9266-21814fcbcc71",
   "metadata": {},
   "source": [
    "# Rotary Lock"
   ]
  },
  {
   "cell_type": "code",
   "execution_count": 35,
   "id": "6048bb9f-f622-4fca-9ace-0f51fd9a4ba6",
   "metadata": {},
   "outputs": [],
   "source": [
    "N = 3\n",
    "M = 3\n",
    "C = [1, 2, 3]"
   ]
  },
  {
   "cell_type": "code",
   "execution_count": 1,
   "id": "ef8c6d3a-2663-4e74-9910-62e062ec8db6",
   "metadata": {},
   "outputs": [],
   "source": [
    "# expected out = 11\n",
    "N = 10\n",
    "M = 4\n",
    "C = [9, 4, 4, 8]"
   ]
  },
  {
   "cell_type": "code",
   "execution_count": 53,
   "id": "2b4d07f5-e55c-429d-87df-4f5487ac4ceb",
   "metadata": {},
   "outputs": [
    {
     "name": "stdout",
     "output_type": "stream",
     "text": [
      "2 8\n",
      "5 5\n",
      "0 10\n",
      "6 4\n"
     ]
    }
   ],
   "source": [
    "# p for pointer\n",
    "p = 1\n",
    "moves = 0\n",
    "\n",
    "for c in C:\n",
    "    left = (N-c) + p if p < c else p - c\n",
    "    right = c - p if p < c else (N-p) + c\n",
    "    moves += left if left < right else right\n",
    "    p = c"
   ]
  },
  {
   "cell_type": "code",
   "execution_count": 54,
   "id": "9c737872-24a4-411c-a562-9f0e043f898e",
   "metadata": {},
   "outputs": [
    {
     "data": {
      "text/plain": [
       "11"
      ]
     },
     "execution_count": 54,
     "metadata": {},
     "output_type": "execute_result"
    }
   ],
   "source": [
    "moves"
   ]
  },
  {
   "cell_type": "markdown",
   "id": "96f7bf1b-3443-4d11-be85-ef043d15f3c9",
   "metadata": {},
   "source": [
    "## Level 2\n",
    "\n",
    "The challenge of this version is that there can be multiple \"minimum\" values to select from, but one path might be better than another."
   ]
  },
  {
   "cell_type": "markdown",
   "id": "5e27b4ae-d556-441f-8b9c-c00a9c07775a",
   "metadata": {},
   "source": [
    "### Leetcode Solution\n",
    "\n",
    "Solution can be found here: https://leetcode.com/discuss/interview-question/1368609/facebook-rotary-lock-practice-puzzle"
   ]
  },
  {
   "cell_type": "code",
   "execution_count": null,
   "id": "aeabba23-5af6-4452-823d-30e6316804b9",
   "metadata": {},
   "outputs": [],
   "source": [
    "from typing import List\n",
    "# Write any import statements here\n",
    "\n",
    "def getMTFromAToB(N: int, curr_pos: int, c: int) -> int:\n",
    "  return min(abs(curr_pos - c), abs(curr_pos + N - c), abs(c + N - curr_pos))\n",
    "\n",
    "def getMinCodeEntryTime(N: int, M: int, C: List[int]) -> int:\n",
    "\n",
    "  # Write your code here\n",
    "  row = list()\n",
    "  col = list()\n",
    "  C.append(1)\n",
    "  \n",
    "  for i in range(M):\n",
    "    min_it = getMTFromAToB(N, C[i-1], C[i])\n",
    "    min_row = float('inf')\n",
    "    min_col = float('inf')\n",
    "    \n",
    "    for j in range(i):\n",
    "      min_jt = getMTFromAToB(N, C[j-1], C[i])\n",
    "      \n",
    "      min_row = min(min_row, row[j] + min_jt)\n",
    "      row[j] += min_it\n",
    "      \n",
    "      min_col = min(min_col, col[j] + min_jt)\n",
    "      col[j] += min_it\n",
    "    \n",
    "    if not row:\n",
    "      min_row = min_it\n",
    "      min_col = min_it\n",
    "      \n",
    "    row.append(min_row)\n",
    "    col.append(min_col)\n",
    "  \n",
    "  return min(*row, *col)\n",
    "    "
   ]
  }
 ],
 "metadata": {
  "kernelspec": {
   "display_name": "Python 3 (ipykernel)",
   "language": "python",
   "name": "python3"
  },
  "language_info": {
   "codemirror_mode": {
    "name": "ipython",
    "version": 3
   },
   "file_extension": ".py",
   "mimetype": "text/x-python",
   "name": "python",
   "nbconvert_exporter": "python",
   "pygments_lexer": "ipython3",
   "version": "3.9.7"
  }
 },
 "nbformat": 4,
 "nbformat_minor": 5
}
