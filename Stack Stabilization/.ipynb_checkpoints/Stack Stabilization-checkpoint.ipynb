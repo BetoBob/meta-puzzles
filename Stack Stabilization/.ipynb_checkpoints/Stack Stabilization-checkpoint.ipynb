{
 "cells": [
  {
   "cell_type": "markdown",
   "id": "c328658a-005a-4ce9-836b-d3a85c807019",
   "metadata": {},
   "source": [
    "# Stack Stabilization"
   ]
  },
  {
   "cell_type": "code",
   "execution_count": 27,
   "id": "13cc42cb-df7d-41fd-a655-9fb64227c4d4",
   "metadata": {},
   "outputs": [],
   "source": [
    "N = 5\n",
    "R = [2, 5, 3, 6, 5]"
   ]
  },
  {
   "cell_type": "code",
   "execution_count": 22,
   "id": "8b7b7ea6-6e36-4b43-9001-0da67f55bcb1",
   "metadata": {},
   "outputs": [],
   "source": [
    "N = 3\n",
    "R = [100, 100, 100]"
   ]
  },
  {
   "cell_type": "code",
   "execution_count": 32,
   "id": "995ac77b-05a9-49d3-883f-2bf2127c88c4",
   "metadata": {},
   "outputs": [],
   "source": [
    "N = 4\n",
    "R = [6, 5, 4, 3]"
   ]
  },
  {
   "cell_type": "markdown",
   "id": "279ea49e-a020-4155-bb96-ee7036703a8c",
   "metadata": {
    "tags": []
   },
   "source": [
    "## Code"
   ]
  },
  {
   "cell_type": "code",
   "execution_count": 34,
   "id": "809729f3-4310-4e88-9d79-f3dbc1b6666b",
   "metadata": {},
   "outputs": [
    {
     "name": "stdout",
     "output_type": "stream",
     "text": [
      "3\n",
      "2\n",
      "1\n",
      "3\n"
     ]
    }
   ],
   "source": [
    "deflates = 0 \n",
    "\n",
    "if (N == 1):\n",
    "    print(0) # return 0 \n",
    "\n",
    "for i in range(N - 1, 0, -1):\n",
    "    print(i)\n",
    "    if(R[i] <= R[i-1]):\n",
    "        R[i - 1] = R[i] - 1\n",
    "        if (R[i-1] <= 0):\n",
    "            print(\"bad\")\n",
    "        deflates += 1\n",
    "\n",
    "print(deflates) # return deflates"
   ]
  },
  {
   "cell_type": "code",
   "execution_count": 29,
   "id": "25f37959-0bf4-4550-888c-b8efc2f3592e",
   "metadata": {},
   "outputs": [
    {
     "data": {
      "text/plain": [
       "[1, 2, 3, 4, 5]"
      ]
     },
     "execution_count": 29,
     "metadata": {},
     "output_type": "execute_result"
    }
   ],
   "source": [
    "R"
   ]
  },
  {
   "cell_type": "code",
   "execution_count": null,
   "id": "22d728cd-207a-4c95-9e69-4ca5cd19a515",
   "metadata": {},
   "outputs": [],
   "source": []
  }
 ],
 "metadata": {
  "kernelspec": {
   "display_name": "Python 3 (ipykernel)",
   "language": "python",
   "name": "python3"
  },
  "language_info": {
   "codemirror_mode": {
    "name": "ipython",
    "version": 3
   },
   "file_extension": ".py",
   "mimetype": "text/x-python",
   "name": "python",
   "nbconvert_exporter": "python",
   "pygments_lexer": "ipython3",
   "version": "3.9.7"
  }
 },
 "nbformat": 4,
 "nbformat_minor": 5
}
